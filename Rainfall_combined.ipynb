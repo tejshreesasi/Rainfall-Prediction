{
  "nbformat": 4,
  "nbformat_minor": 0,
  "metadata": {
    "colab": {
      "provenance": [],
      "gpuType": "T4"
    },
    "kernelspec": {
      "name": "python3",
      "display_name": "Python 3"
    },
    "language_info": {
      "name": "python"
    },
    "accelerator": "GPU"
  },
  "cells": [
    {
      "cell_type": "markdown",
      "source": [
        "Imports\n"
      ],
      "metadata": {
        "id": "n5fRYDgLB7V5"
      }
    },
    {
      "cell_type": "code",
      "execution_count": 1,
      "metadata": {
        "id": "es4ZnrDPBFc1"
      },
      "outputs": [],
      "source": [
        "import pandas as pd\n",
        "import numpy as np\n",
        "import matplotlib.pyplot as plt\n",
        "import datetime\n",
        "from ipywidgets import interact\n",
        "import seaborn as sns\n",
        "import missingno as msno\n",
        "from keras.models import Sequential\n",
        "from keras.layers import LSTM,Dense,Dropout\n",
        "from statsmodels.tsa.holtwinters import ExponentialSmoothing\n",
        "from sklearn.model_selection import train_test_split\n",
        "from sklearn.ensemble import GradientBoostingRegressor,RandomForestRegressor\n",
        "from sklearn.linear_model import LinearRegression\n",
        "from statsmodels.tsa.arima.model import ARIMA\n",
        "from statsmodels.graphics.tsaplots import plot_acf, plot_pacf\n",
        "from sklearn.metrics import mean_squared_error, r2_score,mean_absolute_error\n",
        "from sklearn.preprocessing import StandardScaler\n",
        "from sklearn.neighbors import KNeighborsRegressor\n"
      ]
    },
    {
      "cell_type": "code",
      "source": [
        "# List of raw paths to your CSV files\n",
        "csv_files = [\n",
        "    '/content/drive/MyDrive/Rainfall_prediction/Erode.csv',\n",
        "    '/content/drive/MyDrive/Rainfall_prediction/Karur.csv',\n",
        "    '/content/drive/MyDrive/Rainfall_prediction/Dindigul.csv',\n",
        "]\n",
        "data = pd.DataFrame()\n",
        "for csv_file in csv_files:\n",
        "    df = pd.read_csv(csv_file)\n",
        "    data = pd.concat([data, df], ignore_index=True)\n",
        "\n",
        "data.isnull().sum()\n"
      ],
      "metadata": {
        "colab": {
          "base_uri": "https://localhost:8080/"
        },
        "id": "T1T4swp2CBJg",
        "outputId": "4e4f5857-9ac3-4891-a6ae-e08da117932a"
      },
      "execution_count": 82,
      "outputs": [
        {
          "output_type": "execute_result",
          "data": {
            "text/plain": [
              "Station Code             0\n",
              "Station Name             0\n",
              "District                 0\n",
              "Latitude                 0\n",
              "Longitude                0\n",
              "Year                     0\n",
              "Month                    0\n",
              "Day                      0\n",
              "Hour                     0\n",
              "Min Temperature      13295\n",
              "Max Temperature       6790\n",
              "Temp Dry Bulb          171\n",
              "Temp Wet Bulb          684\n",
              "Relative Humidity     1038\n",
              "Inst Wind Speed      28385\n",
              "Av Wind Speed        33056\n",
              "Wind direction        1166\n",
              "Pan Evaporation        272\n",
              "Rainfall               344\n",
              "dtype: int64"
            ]
          },
          "metadata": {},
          "execution_count": 82
        }
      ]
    },
    {
      "cell_type": "code",
      "source": [
        "data['Hour'] = pd.to_datetime(data['Hour'], format='%H:%M', errors='coerce', exact=False)\n",
        "data['Hour_Hour'] = data['Hour'].dt.minute\n",
        "data['Hour_Minute'] = data['Hour'].dt.hour\n",
        "years = data['Year'].unique()\n",
        "years"
      ],
      "metadata": {
        "colab": {
          "base_uri": "https://localhost:8080/"
        },
        "id": "LFFp0smVD1o_",
        "outputId": "afb55e3c-a895-4285-de6d-ebf76ea1f77d"
      },
      "execution_count": 83,
      "outputs": [
        {
          "output_type": "execute_result",
          "data": {
            "text/plain": [
              "array([2000, 2001, 2002, 2003, 2004, 2005, 2006, 2007, 2008, 2009, 2010,\n",
              "       2011, 2012, 2013, 2014, 2015, 2016, 2017, 2018, 2019, 2020, 1985,\n",
              "       1986, 1987, 1988, 1989, 1990, 1991, 1992, 1993, 1994, 1995, 1996,\n",
              "       1997, 1998, 1999])"
            ]
          },
          "metadata": {},
          "execution_count": 83
        }
      ]
    },
    {
      "cell_type": "code",
      "source": [
        "months = data['Month'].unique()\n",
        "months"
      ],
      "metadata": {
        "colab": {
          "base_uri": "https://localhost:8080/"
        },
        "id": "H6B3eBogF4Hw",
        "outputId": "eb0c753c-3abc-41fe-906e-8967c69bc5f1"
      },
      "execution_count": 84,
      "outputs": [
        {
          "output_type": "execute_result",
          "data": {
            "text/plain": [
              "array([ 1,  2,  3,  4,  5,  7,  8,  9, 11,  6, 10, 12])"
            ]
          },
          "metadata": {},
          "execution_count": 84
        }
      ]
    },
    {
      "cell_type": "code",
      "source": [
        "#seasonal filling for nulls\n",
        "def seasonal_fill(column):\n",
        "  c = 0\n",
        "  yearly = []\n",
        "  for year in years :\n",
        "    monthly = []\n",
        "    for month in range(1,13):\n",
        "      selected_rows = data[(data['Year'] == year) & (data['Month'] == month)]\n",
        "      monthly_avg = selected_rows[column].mean()\n",
        "      data.loc[(data['Year'] == year) & (data['Month'] == month), column] = monthly_avg\n",
        "      monthly.append(monthly_avg)\n",
        "    yearly.append(monthly)\n",
        "  means = []\n",
        "  for i in range(len(yearly[0])):\n",
        "    values = []\n",
        "    for j in range(len(yearly)):\n",
        "      values.append(yearly[j][i])\n",
        "    mean = np.nanmean(values)\n",
        "    means.append(mean)\n",
        "  print(means)\n",
        "  for val in range(len(means)):\n",
        "    data.loc[(data['Month'] == val+1) & (data[column].isna()|data[column].isnull()), column] = means[val]\n",
        "\n",
        "\n",
        "seasonal_fill('Temp Dry Bulb')\n",
        "seasonal_fill('Temp Wet Bulb')\n",
        "seasonal_fill('Relative Humidity')\n",
        "seasonal_fill('Inst Wind Speed')\n",
        "seasonal_fill('Av Wind Speed')\n",
        "seasonal_fill('Pan Evaporation')"
      ],
      "metadata": {
        "colab": {
          "base_uri": "https://localhost:8080/"
        },
        "id": "tFRf0-N5F6zz",
        "outputId": "12c059ff-81ad-4a08-c333-45f223f47fab"
      },
      "execution_count": 85,
      "outputs": [
        {
          "output_type": "stream",
          "name": "stdout",
          "text": [
            "[26.186989507084597, 28.16411558820574, 30.626233191464834, 32.09952389230867, 31.65700084675969, 30.304046570357983, 29.701070400497585, 29.476777533645002, 29.338275870332026, 28.14353909956386, 26.71213460140465, 25.802165270075708]\n",
            "[21.316738098927303, 21.957194985810585, 23.35081538985908, 24.917135470828246, 25.15064366786141, 24.414299391748216, 23.989092752320126, 23.982389402531428, 24.05680614312553, 24.141392055538155, 23.431064474990656, 22.079262036856733]\n",
            "[65.27912193254039, 58.93264957032703, 55.3997527261906, 56.34325935903057, 59.101488118540566, 60.57039338445674, 61.2372636177518, 62.486803306603825, 64.18337656564665, 71.73795381027364, 75.636441453239, 72.23841530046101]\n",
            "[2.641116406227801, 3.8550419728914083, 4.328516157467603, 4.0099880519438615, 5.662060129539515, 8.502199618736382, 10.120226423839915, 8.226948298132786, 5.573018871956304, 2.957848475674625, 1.9629878795173614, 2.278294531774046]\n",
            "[3.130772488206804, 3.398680330682503, 3.491500904850055, 3.9222913027244255, 5.8888319921156675, 8.674073389450733, 9.54038558985124, 8.811280464760399, 6.3101243655373915, 3.4989782584564533, 2.383118116037587, 2.839745546709561]\n",
            "[2.1774636215263654, 2.736687944076392, 3.2932158023725853, 3.4527916666666667, 3.470275699987492, 3.63604349219621, 3.651649882187229, 3.5207558099987164, 3.1267138888888883, 2.343793216341604, 1.823554571009238, 1.8251814254378165]\n"
          ]
        }
      ]
    },
    {
      "cell_type": "code",
      "source": [
        "data.isnull().sum()"
      ],
      "metadata": {
        "colab": {
          "base_uri": "https://localhost:8080/"
        },
        "id": "-yVI1FeNF8mR",
        "outputId": "4460ce50-12de-4b8a-8cd1-f54111ffdc1e"
      },
      "execution_count": 6,
      "outputs": [
        {
          "output_type": "execute_result",
          "data": {
            "text/plain": [
              "Station Code             0\n",
              "Station Name             0\n",
              "District                 0\n",
              "Latitude                 0\n",
              "Longitude                0\n",
              "Year                     0\n",
              "Month                    0\n",
              "Day                      0\n",
              "Hour                     0\n",
              "Min Temperature      13295\n",
              "Max Temperature       6790\n",
              "Temp Dry Bulb            0\n",
              "Temp Wet Bulb            0\n",
              "Relative Humidity        0\n",
              "Inst Wind Speed          0\n",
              "Av Wind Speed            0\n",
              "Wind direction        1166\n",
              "Pan Evaporation          0\n",
              "Rainfall               344\n",
              "Hour_Hour                0\n",
              "Hour_Minute              0\n",
              "dtype: int64"
            ]
          },
          "metadata": {},
          "execution_count": 6
        }
      ]
    },
    {
      "cell_type": "code",
      "source": [
        "#padding\n",
        "columns_to_fill = ['Min Temperature', 'Max Temperature','Rainfall']\n",
        "data[columns_to_fill] = data[columns_to_fill].fillna(method='ffill')"
      ],
      "metadata": {
        "id": "nCY9xa9UF_cl"
      },
      "execution_count": 86,
      "outputs": []
    },
    {
      "cell_type": "code",
      "source": [
        "#one hot encoding categorical values\n",
        "data['Wind direction'].unique()\n",
        "data_encoded = pd.get_dummies(data, columns=['Wind direction'], prefix='Wind_direction')\n",
        "print(data_encoded)"
      ],
      "metadata": {
        "colab": {
          "base_uri": "https://localhost:8080/"
        },
        "id": "-kpOAJ5Mzfyr",
        "outputId": "979baf8b-67fc-4e51-ef9b-984e02243d16"
      },
      "execution_count": 87,
      "outputs": [
        {
          "output_type": "stream",
          "name": "stdout",
          "text": [
            "       Station Code                    Station Name  District   Latitude  \\\n",
            "0       BAVANISAGAR  Bhavanisagar FCS                   Erode  11°28'24\"   \n",
            "1       BAVANISAGAR  Bhavanisagar FCS                   Erode  11°28'24\"   \n",
            "2       BAVANISAGAR  Bhavanisagar FCS                   Erode  11°28'24\"   \n",
            "3       BAVANISAGAR  Bhavanisagar FCS                   Erode  11°28'24\"   \n",
            "4       BAVANISAGAR  Bhavanisagar FCS                   Erode  11°28'24\"   \n",
            "...             ...                             ...       ...        ...   \n",
            "108498  VIRALIPATTI  Viralipatti                     Dindigul  10°07'33\"   \n",
            "108499  VIRALIPATTI  Viralipatti                     Dindigul  10°07'33\"   \n",
            "108500  VIRALIPATTI  Viralipatti                     Dindigul  10°07'33\"   \n",
            "108501  VIRALIPATTI  Viralipatti                     Dindigul  10°07'33\"   \n",
            "108502  VIRALIPATTI  Viralipatti                     Dindigul  10°07'33\"   \n",
            "\n",
            "        Longitude  Year  Month  Day                Hour  Min Temperature  ...  \\\n",
            "0       77°07'49\"  2000      1    1 1900-01-01 08:30:00             22.0  ...   \n",
            "1       77°07'49\"  2000      1    1 1900-01-01 17:30:00             20.0  ...   \n",
            "2       77°07'49\"  2000      1    2 1900-01-01 08:30:00             22.0  ...   \n",
            "3       77°07'49\"  2000      1    2 1900-01-01 17:30:00             20.5  ...   \n",
            "4       77°07'49\"  2000      1    3 1900-01-01 08:30:00             20.5  ...   \n",
            "...           ...   ...    ...  ...                 ...              ...  ...   \n",
            "108498  77°42'28\"  2020     12   29 1900-01-01 17:30:00             24.0  ...   \n",
            "108499  77°42'28\"  2020     12   30 1900-01-01 08:30:00             23.3  ...   \n",
            "108500  77°42'28\"  2020     12   30 1900-01-01 17:30:00             24.0  ...   \n",
            "108501  77°42'28\"  2020     12   31 1900-01-01 08:30:00             23.2  ...   \n",
            "108502  77°42'28\"  2020     12   31 1900-01-01 17:30:00             23.0  ...   \n",
            "\n",
            "        Wind_direction_NW  Wind_direction_S  Wind_direction_SE  \\\n",
            "0                       0                 0                  0   \n",
            "1                       0                 0                  0   \n",
            "2                       0                 0                  0   \n",
            "3                       0                 0                  0   \n",
            "4                       0                 0                  0   \n",
            "...                   ...               ...                ...   \n",
            "108498                  0                 0                  0   \n",
            "108499                  0                 0                  0   \n",
            "108500                  0                 0                  0   \n",
            "108501                  0                 0                  0   \n",
            "108502                  0                 0                  0   \n",
            "\n",
            "        Wind_direction_SSE  Wind_direction_SSW  Wind_direction_SW  \\\n",
            "0                        0                   0                  0   \n",
            "1                        0                   0                  0   \n",
            "2                        0                   0                  0   \n",
            "3                        0                   0                  0   \n",
            "4                        0                   0                  0   \n",
            "...                    ...                 ...                ...   \n",
            "108498                   0                   0                  0   \n",
            "108499                   0                   0                  0   \n",
            "108500                   0                   0                  0   \n",
            "108501                   0                   0                  0   \n",
            "108502                   0                   0                  0   \n",
            "\n",
            "        Wind_direction_V  Wind_direction_W  Wind_direction_WNW  \\\n",
            "0                      0                 0                   0   \n",
            "1                      0                 0                   0   \n",
            "2                      0                 0                   0   \n",
            "3                      0                 0                   0   \n",
            "4                      0                 0                   0   \n",
            "...                  ...               ...                 ...   \n",
            "108498                 0                 0                   0   \n",
            "108499                 0                 0                   0   \n",
            "108500                 0                 0                   0   \n",
            "108501                 0                 0                   0   \n",
            "108502                 0                 0                   0   \n",
            "\n",
            "        Wind_direction_WSW  \n",
            "0                        0  \n",
            "1                        0  \n",
            "2                        0  \n",
            "3                        0  \n",
            "4                        0  \n",
            "...                    ...  \n",
            "108498                   0  \n",
            "108499                   0  \n",
            "108500                   0  \n",
            "108501                   0  \n",
            "108502                   0  \n",
            "\n",
            "[108503 rows x 38 columns]\n"
          ]
        }
      ]
    },
    {
      "cell_type": "code",
      "source": [
        "data.isnull().sum()"
      ],
      "metadata": {
        "colab": {
          "base_uri": "https://localhost:8080/"
        },
        "id": "NQNpr1Q9GDsU",
        "outputId": "65625033-4a03-4457-d8c0-4b50a90021f0"
      },
      "execution_count": 88,
      "outputs": [
        {
          "output_type": "execute_result",
          "data": {
            "text/plain": [
              "Station Code            0\n",
              "Station Name            0\n",
              "District                0\n",
              "Latitude                0\n",
              "Longitude               0\n",
              "Year                    0\n",
              "Month                   0\n",
              "Day                     0\n",
              "Hour                    0\n",
              "Min Temperature         0\n",
              "Max Temperature         0\n",
              "Temp Dry Bulb           0\n",
              "Temp Wet Bulb           0\n",
              "Relative Humidity       0\n",
              "Inst Wind Speed         0\n",
              "Av Wind Speed           0\n",
              "Wind direction       1166\n",
              "Pan Evaporation         0\n",
              "Rainfall                0\n",
              "Hour_Hour               0\n",
              "Hour_Minute             0\n",
              "dtype: int64"
            ]
          },
          "metadata": {},
          "execution_count": 88
        }
      ]
    },
    {
      "cell_type": "code",
      "source": [
        "mae_l = []\n",
        "mse_l = []\n",
        "rmse_l = []\n",
        "r2_l = []\n",
        "def Metrics(ytest, ypred):\n",
        "    mae = mean_absolute_error(ytest, ypred)\n",
        "    mse = mean_squared_error(ytest, ypred)\n",
        "    rmse = mse ** 0.5\n",
        "    r2 = r2_score(ytest, ypred)\n",
        "    mae_l.append(mae)\n",
        "    mse_l.append(mse)\n",
        "    rmse_l.append(rmse)\n",
        "    r2_l.append(r2)\n",
        "    print(\"MAE: \", mae)\n",
        "    print(\"MSE: \", mse)\n",
        "    print(\"RMSE: \", rmse)\n",
        "    print(\"R-Squared: \", r2)"
      ],
      "metadata": {
        "id": "XvqnF1J91Tex"
      },
      "execution_count": 89,
      "outputs": []
    },
    {
      "cell_type": "code",
      "source": [
        "X = data[[\n",
        "    \"Year\",\n",
        "    \"Month\",\n",
        "    \"Day\",\n",
        "    \"Hour_Hour\",\n",
        "    \"Hour_Minute\",\n",
        "    \"Rainfall\",\n",
        "    \"Min Temperature\",\n",
        "    \"Max Temperature\",\n",
        "    \"Temp Dry Bulb\",\n",
        "    \"Temp Wet Bulb\",\n",
        "    \"Relative Humidity\",\n",
        "    \"Inst Wind Speed\",\n",
        "    \"Av Wind Speed\",\n",
        "    \"Pan Evaporation\"]]\n",
        "y = data['Rainfall']\n",
        "\n",
        "X_train, X_test, y_train, y_test = train_test_split(X, y, test_size=0.3, random_state=42)"
      ],
      "metadata": {
        "id": "7XBcaRvLG3pK"
      },
      "execution_count": 100,
      "outputs": []
    },
    {
      "cell_type": "code",
      "source": [
        "#GradientBOOST\n",
        "gb_regressor = GradientBoostingRegressor(n_estimators=110, random_state=42)\n",
        "gb_regressor.fit(X_train, y_train)\n",
        "y_pred = gb_regressor.predict(X_test)\n",
        "\n",
        "Metrics(y_test,y_pred)"
      ],
      "metadata": {
        "colab": {
          "base_uri": "https://localhost:8080/"
        },
        "id": "Xwi7y_VsGE83",
        "outputId": "d294996b-9622-452e-a23c-f547742c9288"
      },
      "execution_count": 23,
      "outputs": [
        {
          "output_type": "stream",
          "name": "stdout",
          "text": [
            "MAE:  0.009810612420774628\n",
            "MSE:  0.16707774029853603\n",
            "RMSE:  0.40875144072961506\n",
            "R-Squared:  0.995534878943445\n"
          ]
        }
      ]
    },
    {
      "cell_type": "code",
      "source": [
        "import pickle\n",
        "with open('/content/drive/MyDrive/Rainfall_prediction/gb_regressor.pkl','wb') as file:\n",
        "  pickle.dump(gb_regressor,file)"
      ],
      "metadata": {
        "id": "vU_nOc7fn3Hf"
      },
      "execution_count": 24,
      "outputs": []
    },
    {
      "cell_type": "code",
      "source": [
        "with open('/content/drive/MyDrive/Rainfall_prediction/gb_regressor.pkl','rb') as file:\n",
        "  gb_regressor = pickle.load(file)\n",
        "  #y_pred = gb_regressor.predict(X_test)\n",
        "  #Metrics(y_test,y_pred)"
      ],
      "metadata": {
        "id": "iKqJUedU42RZ"
      },
      "execution_count": 99,
      "outputs": []
    },
    {
      "cell_type": "code",
      "source": [
        "#random forest\n",
        "rf_regressor = RandomForestRegressor(n_estimators=100, random_state=42)\n",
        "rf_regressor.fit(X_train, y_train)\n",
        "y_pred = rf_regressor.predict(X_test)\n",
        "\n",
        "Metrics(y_test,y_pred)"
      ],
      "metadata": {
        "colab": {
          "base_uri": "https://localhost:8080/"
        },
        "id": "JD14xMJ7HGI8",
        "outputId": "ed925d23-3ede-417b-8ba5-89b7119fe904"
      },
      "execution_count": 28,
      "outputs": [
        {
          "output_type": "stream",
          "name": "stdout",
          "text": [
            "MAE:  0.00846051426991511\n",
            "MSE:  0.36464945597738907\n",
            "RMSE:  0.6038621166933633\n",
            "R-Squared:  0.9902548121536915\n"
          ]
        }
      ]
    },
    {
      "cell_type": "code",
      "source": [
        "with open('/content/drive/MyDrive/Rainfall_prediction/rf_regressor.pkl','wb') as file:\n",
        "  pickle.dump(rf_regressor,file)"
      ],
      "metadata": {
        "id": "e6ol8XidoQDe"
      },
      "execution_count": 29,
      "outputs": []
    },
    {
      "cell_type": "code",
      "source": [
        "with open('/content/drive/MyDrive/Rainfall_prediction/rf_regressor.pkl','rb') as file:\n",
        "  rf_regressor = pickle.load(file)\n",
        "  #y_pred = regressor.predict(X_test)\n",
        "  #Metrics(y_test,y_pred)"
      ],
      "metadata": {
        "id": "6iAiwcGB4aTf"
      },
      "execution_count": 103,
      "outputs": []
    },
    {
      "cell_type": "code",
      "source": [
        "#knn\n",
        "knn_model = KNeighborsRegressor()\n",
        "knn_model.fit(X_train, y_train)\n",
        "y_pred = knn_model.predict(X_test)\n",
        "\n",
        "Metrics(y_test,y_pred)"
      ],
      "metadata": {
        "colab": {
          "base_uri": "https://localhost:8080/"
        },
        "id": "tXGFIeH6HOhl",
        "outputId": "f7759f2d-2722-4fc3-d2d8-d39dccf4fe7a"
      },
      "execution_count": 38,
      "outputs": [
        {
          "output_type": "stream",
          "name": "stdout",
          "text": [
            "MAE:  0.1617621578446131\n",
            "MSE:  0.627566511627907\n",
            "RMSE:  0.7921909565426173\n",
            "R-Squared:  0.983228403493777\n"
          ]
        }
      ]
    },
    {
      "cell_type": "code",
      "source": [
        "with open('/content/drive/MyDrive/Rainfall_prediction/knn.pkl','wb') as file:\n",
        "  pickle.dump(knn_model,file)"
      ],
      "metadata": {
        "id": "P0a3MMf0od93"
      },
      "execution_count": 39,
      "outputs": []
    },
    {
      "cell_type": "code",
      "source": [
        "with open('/content/drive/MyDrive/Rainfall_prediction/knn.pkl','rb') as file:\n",
        "  regressor = pickle.load(file)\n",
        "  y_pred = regressor.predict(X_test)\n",
        "  Metrics(y_test,y_pred)"
      ],
      "metadata": {
        "colab": {
          "base_uri": "https://localhost:8080/"
        },
        "id": "xXuAtPZJ5BwN",
        "outputId": "b6fc3e98-fe3e-4fc1-c961-e62ec5633391"
      },
      "execution_count": 93,
      "outputs": [
        {
          "output_type": "stream",
          "name": "stdout",
          "text": [
            "MAE:  0.1617621578446131\n",
            "MSE:  0.627566511627907\n",
            "RMSE:  0.7921909565426173\n",
            "R-Squared:  0.983228403493777\n"
          ]
        }
      ]
    },
    {
      "cell_type": "code",
      "source": [
        "#Exponential smoothening\n",
        "data['Date'] = pd.to_datetime(data[['Year', 'Month', 'Day']])\n",
        "data.set_index('Date', inplace=True)\n",
        "rainfall_series = data['Rainfall']\n",
        "model = ExponentialSmoothing(rainfall_series, seasonal='add',seasonal_periods = 7)\n",
        "model_fit = model.fit()\n",
        "y_pred = model_fit.fittedvalues\n",
        "\n",
        "Metrics(data['Rainfall'],y_pred)"
      ],
      "metadata": {
        "colab": {
          "base_uri": "https://localhost:8080/"
        },
        "id": "hMw7FZkaHVr-",
        "outputId": "80f2151d-2244-4f6d-a2b6-2f6cdcb4618e"
      },
      "execution_count": 61,
      "outputs": [
        {
          "output_type": "stream",
          "name": "stderr",
          "text": [
            "/usr/local/lib/python3.10/dist-packages/statsmodels/tsa/base/tsa_model.py:473: ValueWarning:\n",
            "\n",
            "A date index has been provided, but it has no associated frequency information and so will be ignored when e.g. forecasting.\n",
            "\n",
            "/usr/local/lib/python3.10/dist-packages/statsmodels/tsa/base/tsa_model.py:473: ValueWarning:\n",
            "\n",
            "A date index has been provided, but it is not monotonic and so will be ignored when e.g. forecasting.\n",
            "\n"
          ]
        },
        {
          "output_type": "stream",
          "name": "stdout",
          "text": [
            "MAE:  1.6790089903995677\n",
            "MSE:  31.6720517150909\n",
            "RMSE:  5.627792792480094\n",
            "R-Squared:  0.018127157577980446\n"
          ]
        }
      ]
    },
    {
      "cell_type": "code",
      "source": [
        "with open('/content/drive/MyDrive/Rainfall_prediction/exponential_smoothening.pkl','wb') as file:\n",
        "  pickle.dump(model_fit,file)"
      ],
      "metadata": {
        "id": "KE3BKnGEorTg"
      },
      "execution_count": 64,
      "outputs": []
    },
    {
      "cell_type": "code",
      "source": [
        "with open('/content/drive/MyDrive/Rainfall_prediction/exponential_smoothening.pkl','rb') as file:\n",
        "  regressor = pickle.load(file)\n",
        "  y_pred = regressor.fittedvalues\n",
        "  Metrics(data['Rainfall'],y_pred)"
      ],
      "metadata": {
        "colab": {
          "base_uri": "https://localhost:8080/"
        },
        "id": "YbtCQXBC5Giu",
        "outputId": "d88c7a2e-95b7-4ad1-8384-a993d87d9caf"
      },
      "execution_count": 94,
      "outputs": [
        {
          "output_type": "stream",
          "name": "stdout",
          "text": [
            "MAE:  1.6790089903995677\n",
            "MSE:  31.6720517150909\n",
            "RMSE:  5.627792792480094\n",
            "R-Squared:  0.018127157577980446\n"
          ]
        }
      ]
    },
    {
      "cell_type": "code",
      "source": [
        "#ARIMA\n",
        "p = 1\n",
        "d = 1\n",
        "q = 7\n",
        "model = ARIMA(data['Rainfall'], order=(p, d, q))\n",
        "model_fit = model.fit()\n",
        "start = 0\n",
        "end = len(data['Rainfall']) - 1\n",
        "predictions = model_fit.predict(start=start, end=end, typ='levels')\n",
        "actual_values = data['Rainfall'][start:end+1]\n",
        "Metrics(actual_values,predictions)"
      ],
      "metadata": {
        "colab": {
          "base_uri": "https://localhost:8080/"
        },
        "id": "HaQej1SWHlKO",
        "outputId": "4b0e08d7-99eb-4eb6-fb32-52cf1ecbcd0e"
      },
      "execution_count": 66,
      "outputs": [
        {
          "output_type": "stream",
          "name": "stderr",
          "text": [
            "/usr/local/lib/python3.10/dist-packages/statsmodels/tsa/base/tsa_model.py:473: ValueWarning:\n",
            "\n",
            "A date index has been provided, but it has no associated frequency information and so will be ignored when e.g. forecasting.\n",
            "\n",
            "/usr/local/lib/python3.10/dist-packages/statsmodels/tsa/base/tsa_model.py:473: ValueWarning:\n",
            "\n",
            "A date index has been provided, but it is not monotonic and so will be ignored when e.g. forecasting.\n",
            "\n",
            "/usr/local/lib/python3.10/dist-packages/statsmodels/tsa/base/tsa_model.py:473: ValueWarning:\n",
            "\n",
            "A date index has been provided, but it has no associated frequency information and so will be ignored when e.g. forecasting.\n",
            "\n",
            "/usr/local/lib/python3.10/dist-packages/statsmodels/tsa/base/tsa_model.py:473: ValueWarning:\n",
            "\n",
            "A date index has been provided, but it is not monotonic and so will be ignored when e.g. forecasting.\n",
            "\n",
            "/usr/local/lib/python3.10/dist-packages/statsmodels/tsa/base/tsa_model.py:473: ValueWarning:\n",
            "\n",
            "A date index has been provided, but it has no associated frequency information and so will be ignored when e.g. forecasting.\n",
            "\n",
            "/usr/local/lib/python3.10/dist-packages/statsmodels/tsa/base/tsa_model.py:473: ValueWarning:\n",
            "\n",
            "A date index has been provided, but it is not monotonic and so will be ignored when e.g. forecasting.\n",
            "\n"
          ]
        },
        {
          "output_type": "stream",
          "name": "stdout",
          "text": [
            "MAE:  1.6496458907737803\n",
            "MSE:  30.823617128989998\n",
            "RMSE:  5.551902118102407\n",
            "R-Squared:  0.04442968089279031\n"
          ]
        }
      ]
    },
    {
      "cell_type": "code",
      "source": [
        "with open('/content/drive/MyDrive/Rainfall_prediction/arima.pkl','wb') as file:\n",
        "  pickle.dump(model_fit,file)"
      ],
      "metadata": {
        "id": "85FkvPvMo5BC"
      },
      "execution_count": 67,
      "outputs": []
    },
    {
      "cell_type": "code",
      "source": [
        "with open('/content/drive/MyDrive/Rainfall_prediction/arima.pkl','rb') as file:\n",
        "  regressor = pickle.load(file)\n",
        "  start = 0\n",
        "  end = len(data['Rainfall']) - 1\n",
        "  predictions = regressor.predict(start=start, end=end, typ='levels')\n",
        "  actual_values = data['Rainfall'][start:end+1]\n",
        "  Metrics(actual_values,predictions)"
      ],
      "metadata": {
        "colab": {
          "base_uri": "https://localhost:8080/"
        },
        "id": "Z3WGZRVO5Km6",
        "outputId": "781653cb-be23-43da-a71e-4b83c16751cf"
      },
      "execution_count": 95,
      "outputs": [
        {
          "output_type": "stream",
          "name": "stdout",
          "text": [
            "MAE:  1.6496458907737803\n",
            "MSE:  30.823617128989998\n",
            "RMSE:  5.551902118102407\n",
            "R-Squared:  0.04442968089279031\n"
          ]
        }
      ]
    },
    {
      "cell_type": "code",
      "source": [
        "import random\n",
        "selected_columns = [\n",
        "    \"Year\", \"Month\", \"Day\", \"Hour_Hour\", \"Hour_Minute\", \"Rainfall\",\n",
        "    \"Min Temperature\", \"Max Temperature\", \"Temp Dry Bulb\", \"Temp Wet Bulb\",\n",
        "    \"Relative Humidity\", \"Inst Wind Speed\", \"Av Wind Speed\", \"Pan Evaporation\"\n",
        "]\n",
        "\n",
        "data_subset = data[selected_columns]\n",
        "X = data_subset.drop(\"Rainfall\", axis=1)\n",
        "y = data_subset[\"Rainfall\"]\n",
        "scaler_X = StandardScaler()\n",
        "X_scaled = scaler_X.fit_transform(X)\n",
        "scaler_y = StandardScaler()\n",
        "y_scaled = scaler_y.fit_transform(y.values.reshape(-1, 1))\n",
        "\n",
        "sequence_length = 24\n",
        "num_features = X_scaled.shape[1]\n",
        "X_sequences, y_sequences = [], []\n",
        "\n",
        "for i in range(len(X_scaled) - sequence_length + 1):\n",
        "    X_sequences.append(X_scaled[i:i+sequence_length])\n",
        "    y_sequences.append(y_scaled[i+sequence_length-1])\n",
        "\n",
        "X_sequences, y_sequences = np.array(X_sequences), np.array(y_sequences)\n",
        "train_size = int(0.7 * len(X_sequences))\n",
        "val_size = int(0.2 * len(X_sequences))\n",
        "test_size = len(X_sequences) - train_size - val_size\n",
        "indices = list(range(len(X_sequences)))\n",
        "random.shuffle(indices)\n",
        "train_indices, val_indices, test_indices = indices[:train_size], indices[train_size:train_size+val_size], indices[train_size+val_size:]\n",
        "X_train, y_train = X_sequences[train_indices], y_sequences[train_indices]\n",
        "X_val, y_val = X_sequences[val_indices], y_sequences[val_indices]\n",
        "X_test, y_test = X_sequences[test_indices], y_sequences[test_indices]\n"
      ],
      "metadata": {
        "id": "CgcShXuBHGL4"
      },
      "execution_count": 96,
      "outputs": []
    },
    {
      "cell_type": "code",
      "source": [
        "#lstm\n",
        "model = Sequential([\n",
        "    LSTM(units=64, input_shape=(sequence_length, num_features), activation='relu', return_sequences=True),\n",
        "    Dropout(0.2),\n",
        "    LSTM(units=32, activation='relu'),\n",
        "    Dense(units=1)\n",
        "])\n",
        "\n",
        "model.compile(loss='mean_squared_error', optimizer='adam')\n",
        "history = model.fit(X_train, y_train, epochs=5, batch_size=32, validation_data=(X_val, y_val))\n",
        "loss = model.evaluate(X_test, y_test)\n",
        "\n",
        "y_pred_scaled = model.predict(X_test)\n",
        "y_pred = scaler_y.inverse_transform(y_pred_scaled)\n",
        "\n",
        "Metrics(y_test,y_pred)"
      ],
      "metadata": {
        "colab": {
          "base_uri": "https://localhost:8080/"
        },
        "id": "hTL8tuaKIP17",
        "outputId": "98ae046d-0f6d-4d72-c523-fe93ca03e746"
      },
      "execution_count": 70,
      "outputs": [
        {
          "output_type": "stream",
          "name": "stderr",
          "text": [
            "WARNING:tensorflow:Layer lstm will not use cuDNN kernels since it doesn't meet the criteria. It will use a generic GPU kernel as fallback when running on GPU.\n",
            "WARNING:tensorflow:Layer lstm_1 will not use cuDNN kernels since it doesn't meet the criteria. It will use a generic GPU kernel as fallback when running on GPU.\n"
          ]
        },
        {
          "output_type": "stream",
          "name": "stdout",
          "text": [
            "Epoch 1/5\n",
            "2373/2373 [==============================] - 118s 45ms/step - loss: 0.9971 - val_loss: 0.8565\n",
            "Epoch 2/5\n",
            "2373/2373 [==============================] - 131s 55ms/step - loss: 0.9322 - val_loss: 0.8327\n",
            "Epoch 3/5\n",
            "2373/2373 [==============================] - 110s 46ms/step - loss: 0.9063 - val_loss: 0.8172\n",
            "Epoch 4/5\n",
            "2373/2373 [==============================] - 147s 62ms/step - loss: 0.8863 - val_loss: 0.7934\n",
            "Epoch 5/5\n",
            "2373/2373 [==============================] - 106s 45ms/step - loss: 0.8673 - val_loss: 0.7855\n",
            "339/339 [==============================] - 3s 8ms/step - loss: 0.7030\n",
            "339/339 [==============================] - 4s 11ms/step\n",
            "MAE:  1.2479186181378747\n",
            "MSE:  6.365708093729114\n",
            "RMSE:  2.523035491967783\n",
            "R-Squared:  -6.66139965808941\n"
          ]
        }
      ]
    },
    {
      "cell_type": "code",
      "source": [
        "with open('/content/drive/MyDrive/Rainfall_prediction/lstm.pkl','wb') as file:\n",
        "  pickle.dump(model,file)"
      ],
      "metadata": {
        "id": "TaoTa-jtqT5A"
      },
      "execution_count": 73,
      "outputs": []
    },
    {
      "cell_type": "code",
      "source": [
        "with open('/content/drive/MyDrive/Rainfall_prediction/lstm.pkl','rb') as file:\n",
        "  regressor = pickle.load(file)\n",
        "  y_pred_scaled = regressor.predict(X_test)\n",
        "  y_pred = scaler_y.inverse_transform(y_pred_scaled)\n",
        "  Metrics(y_test,y_pred)"
      ],
      "metadata": {
        "colab": {
          "base_uri": "https://localhost:8080/"
        },
        "id": "8vxiyznvE_uW",
        "outputId": "89c5dfdd-0101-4e78-9e2c-890e3a7dd933"
      },
      "execution_count": 97,
      "outputs": [
        {
          "output_type": "stream",
          "name": "stderr",
          "text": [
            "WARNING:tensorflow:Layer lstm will not use cuDNN kernels since it doesn't meet the criteria. It will use a generic GPU kernel as fallback when running on GPU.\n",
            "WARNING:tensorflow:Layer lstm_1 will not use cuDNN kernels since it doesn't meet the criteria. It will use a generic GPU kernel as fallback when running on GPU.\n"
          ]
        },
        {
          "output_type": "stream",
          "name": "stdout",
          "text": [
            "339/339 [==============================] - 3s 8ms/step\n",
            "MAE:  1.275331023703515\n",
            "MSE:  6.594620848946986\n",
            "RMSE:  2.5679993864771435\n",
            "R-Squared:  -5.329884446817219\n"
          ]
        }
      ]
    },
    {
      "cell_type": "code",
      "source": [
        "#comparing all the models\n",
        "import matplotlib.pyplot as plt\n",
        "import numpy as np\n",
        "\n",
        "model_names = [\"GradientBoost\", \"Random Forest\", \"KNN\",\"Exponential Smoothing\",'ARIMA', \"LSTM\"]\n",
        "\n",
        "fig, ax = plt.subplots(figsize=(12, 6))\n",
        "bar_width = 0.2\n",
        "index = np.arange(len(model_names))\n",
        "\n",
        "ax.bar(index - bar_width, mae_l, bar_width, color='salmon', label='MAE')\n",
        "ax.bar(index, mse_l, bar_width, color='red', label='MSE')\n",
        "ax.bar(index + bar_width, r2_l, bar_width, color='lightblue', label='R2')\n",
        "\n",
        "ax.set_xlabel(\"Models\")\n",
        "ax.set_title(\"MAE, MSE and R2 for Different Models\")\n",
        "ax.set_xticks(index)\n",
        "ax.set_xticklabels(model_names, rotation=45)\n",
        "ax.legend()\n",
        "plt.tight_layout()\n",
        "plt.show()\n"
      ],
      "metadata": {
        "colab": {
          "base_uri": "https://localhost:8080/",
          "height": 607
        },
        "id": "vqZ-5dGuIb_F",
        "outputId": "cb24de93-adca-447a-eca3-4f0553e7a931"
      },
      "execution_count": 98,
      "outputs": [
        {
          "output_type": "display_data",
          "data": {
            "text/plain": [
              "<Figure size 1200x600 with 1 Axes>"
            ],
            "image/png": "[encoded data removed]"
          },
          "metadata": {}
        }
      ]
    },
    {
      "cell_type": "code",
      "source": [
        "X = data[[\n",
        "    \"Year\",\n",
        "    \"Month\",\n",
        "    \"Day\",\n",
        "    \"Hour_Hour\",\n",
        "    \"Hour_Minute\",\n",
        "    \"Rainfall\",\n",
        "    \"Min Temperature\",\n",
        "    \"Max Temperature\",\n",
        "    \"Temp Dry Bulb\",\n",
        "    \"Temp Wet Bulb\",\n",
        "    \"Relative Humidity\",\n",
        "    \"Inst Wind Speed\",\n",
        "    \"Av Wind Speed\",\n",
        "    \"Pan Evaporation\"]]\n",
        "y = data['Rainfall']\n",
        "\n",
        "X_train, X_test, y_train, y_test = train_test_split(X, y, test_size=0.3, random_state=42)"
      ],
      "metadata": {
        "id": "XeWSHugYMfKc"
      },
      "execution_count": 106,
      "outputs": []
    },
    {
      "cell_type": "code",
      "source": [
        "from sklearn.model_selection import cross_val_score\n",
        "CV_MSE = np.mean(-cross_val_score(gb_regressor, X_train, y_train, cv = 10 ,scoring = \"neg_mean_squared_error\" ))\n",
        "CV_RMSE = np.sqrt(CV_MSE)\n",
        "print(\"Validated Mean Squared Error on training data for gradient boost regressor: \", CV_MSE)\n",
        "print(\"Validated Root Mean Squared Error on training data for gradient boost regressor: \", CV_RMSE)"
      ],
      "metadata": {
        "colab": {
          "base_uri": "https://localhost:8080/"
        },
        "id": "_PFjRHmJNjUE",
        "outputId": "6e858637-a60d-46b7-9360-8d8e003199bb"
      },
      "execution_count": 101,
      "outputs": [
        {
          "output_type": "stream",
          "name": "stdout",
          "text": [
            "Validated Mean Squared Error on training data for gradient boost regressor:  0.008116267162049193\n",
            "Validated Root Mean Squared Error on training data for gradient boost regressor:  0.09009032779410447\n"
          ]
        }
      ]
    },
    {
      "cell_type": "code",
      "source": [
        "CV_MSE = np.mean(-cross_val_score(gb_regressor, X_test, y_test, cv = 10 ,scoring = \"neg_mean_squared_error\" ))\n",
        "CV_RMSE = np.sqrt(CV_MSE)\n",
        "print(\"Validated Mean Squared Error on test data: \", CV_MSE)\n",
        "print(\"Validated Root Mean Squared Error on test data: \", CV_RMSE)"
      ],
      "metadata": {
        "colab": {
          "base_uri": "https://localhost:8080/"
        },
        "id": "v9kCDWc9Nlqf",
        "outputId": "a6ec82d7-8214-48d4-ca8b-5274f71403d6"
      },
      "execution_count": 102,
      "outputs": [
        {
          "output_type": "stream",
          "name": "stdout",
          "text": [
            "Validated Mean Squared Error on test data:  0.15907016733619117\n",
            "Validated Root Mean Squared Error on test data:  0.39883601559562193\n"
          ]
        }
      ]
    },
    {
      "cell_type": "code",
      "source": [
        "CV_MSE_RF = np.mean(-cross_val_score(rf_regressor, X_train, y_train, cv = 10 ,scoring = \"neg_mean_squared_error\" ))\n",
        "CV_RMSE_RF = np.sqrt(CV_MSE)\n",
        "print(\"Validated Mean Squared Error on training data for random forest regressor: \", CV_MSE_RF)\n",
        "print(\"Validated Root Mean Squared Error on training data for random fores regressor: \", CV_RMSE_RF)"
      ],
      "metadata": {
        "colab": {
          "base_uri": "https://localhost:8080/"
        },
        "id": "10Zugpandbt_",
        "outputId": "b59312c3-21a1-4c31-db4f-eea5d9b53485"
      },
      "execution_count": 104,
      "outputs": [
        {
          "output_type": "stream",
          "name": "stdout",
          "text": [
            "Validated Mean Squared Error on training data for random forest regressor:  0.017400021438574064\n",
            "Validated Root Mean Squared Error on training data for random fores regressor:  0.39883601559562193\n"
          ]
        }
      ]
    },
    {
      "cell_type": "code",
      "source": [
        "CV_MSE_RF = np.mean(-cross_val_score(rf_regressor, X_test, y_test, cv = 10 ,scoring = \"neg_mean_squared_error\" ))\n",
        "CV_RMSE_RF = np.sqrt(CV_MSE)\n",
        "print(\"Validated Mean Squared Error on test data: \", CV_MSE_RF)\n",
        "print(\"Validated Root Mean Squared Error on test data: \", CV_RMSE_RF)"
      ],
      "metadata": {
        "colab": {
          "base_uri": "https://localhost:8080/"
        },
        "id": "Fcp-AuuFdl1G",
        "outputId": "5864b49e-1bae-447d-bf44-8a42347ccf27"
      },
      "execution_count": 105,
      "outputs": [
        {
          "output_type": "stream",
          "name": "stdout",
          "text": [
            "Validated Mean Squared Error on test data:  0.19627991686185692\n",
            "Validated Root Mean Squared Error on test data:  0.39883601559562193\n"
          ]
        }
      ]
    },
    {
      "cell_type": "code",
      "source": [],
      "metadata": {
        "id": "dRhsPG2Bf6sc"
      },
      "execution_count": null,
      "outputs": []
    }
  ]
}